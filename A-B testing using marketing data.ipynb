{
 "cells": [
  {
   "cell_type": "markdown",
   "metadata": {},
   "source": [
    "# A/B Testing"
   ]
  },
  {
   "cell_type": "markdown",
   "metadata": {},
   "source": []
  },
  {
   "cell_type": "markdown",
   "metadata": {},
   "source": [
    "# Loading Libraries"
   ]
  },
  {
   "cell_type": "code",
   "execution_count": null,
   "metadata": {
    "_cell_guid": "b1076dfc-b9ad-4769-8c92-a6c4dae69d19",
    "_uuid": "8f2839f25d086af736a60e9eeb907d3b93b6e0e5",
    "execution": {
     "iopub.execute_input": "2023-07-26T21:11:04.437658Z",
     "iopub.status.busy": "2023-07-26T21:11:04.436945Z",
     "iopub.status.idle": "2023-07-26T21:11:05.29599Z",
     "shell.execute_reply": "2023-07-26T21:11:05.294391Z",
     "shell.execute_reply.started": "2023-07-26T21:11:04.437618Z"
    }
   },
   "outputs": [],
   "source": [
    "import numpy as np \n",
    "import pandas as pd \n",
    "\n",
    "import seaborn as sns\n",
    "import matplotlib.pyplot as plt\n",
    "%matplotlib inline\n",
    "\n",
    "import os\n",
    "for dirname, _, filenames in os.walk('/kaggle/input'):\n",
    "    for filename in filenames:\n",
    "        print(os.path.join(dirname, filename))"
   ]
  },
  {
   "cell_type": "markdown",
   "metadata": {},
   "source": [
    "# Reading the data"
   ]
  },
  {
   "cell_type": "code",
   "execution_count": null,
   "metadata": {
    "execution": {
     "iopub.execute_input": "2023-07-26T21:11:05.298929Z",
     "iopub.status.busy": "2023-07-26T21:11:05.298527Z",
     "iopub.status.idle": "2023-07-26T21:11:06.100435Z",
     "shell.execute_reply": "2023-07-26T21:11:06.09938Z",
     "shell.execute_reply.started": "2023-07-26T21:11:05.298893Z"
    }
   },
   "outputs": [],
   "source": [
    "df = pd.read_csv(\"/marketing data.csv\")"
   ]
  },
  {
   "cell_type": "markdown",
   "metadata": {},
   "source": [
    "# Initial inspection"
   ]
  },
  {
   "cell_type": "code",
   "execution_count": null,
   "metadata": {
    "execution": {
     "iopub.execute_input": "2023-07-26T21:11:06.104057Z",
     "iopub.status.busy": "2023-07-26T21:11:06.103573Z",
     "iopub.status.idle": "2023-07-26T21:11:06.134699Z",
     "shell.execute_reply": "2023-07-26T21:11:06.133421Z",
     "shell.execute_reply.started": "2023-07-26T21:11:06.104013Z"
    }
   },
   "outputs": [],
   "source": [
    "df.head()"
   ]
  },
  {
   "cell_type": "markdown",
   "metadata": {},
   "source": [
    "# Checking the datatypes\n",
    "\n",
    "We have 6 different features"
   ]
  },
  {
   "cell_type": "code",
   "execution_count": null,
   "metadata": {
    "execution": {
     "iopub.execute_input": "2023-07-26T21:11:06.138893Z",
     "iopub.status.busy": "2023-07-26T21:11:06.13836Z",
     "iopub.status.idle": "2023-07-26T21:11:06.552946Z",
     "shell.execute_reply": "2023-07-26T21:11:06.551536Z",
     "shell.execute_reply.started": "2023-07-26T21:11:06.138846Z"
    }
   },
   "outputs": [],
   "source": [
    "df.info()"
   ]
  },
  {
   "cell_type": "markdown",
   "metadata": {},
   "source": [
    "# Number of rows and columns\n",
    "\n",
    "Half a million entries in our dataset"
   ]
  },
  {
   "cell_type": "code",
   "execution_count": null,
   "metadata": {
    "execution": {
     "iopub.execute_input": "2023-07-26T21:11:06.555392Z",
     "iopub.status.busy": "2023-07-26T21:11:06.554927Z",
     "iopub.status.idle": "2023-07-26T21:11:06.564219Z",
     "shell.execute_reply": "2023-07-26T21:11:06.56269Z",
     "shell.execute_reply.started": "2023-07-26T21:11:06.555345Z"
    }
   },
   "outputs": [],
   "source": [
    "df.shape"
   ]
  },
  {
   "cell_type": "code",
   "execution_count": null,
   "metadata": {
    "execution": {
     "iopub.execute_input": "2023-07-26T21:11:06.566359Z",
     "iopub.status.busy": "2023-07-26T21:11:06.565882Z",
     "iopub.status.idle": "2023-07-26T21:11:07.354389Z",
     "shell.execute_reply": "2023-07-26T21:11:07.35313Z",
     "shell.execute_reply.started": "2023-07-26T21:11:06.566313Z"
    }
   },
   "outputs": [],
   "source": [
    "print(\"Is NA?\")\n",
    "print(df.isna().sum())\n",
    "print(\"Is NULL?\")\n",
    "print(df.isnull().sum())\n"
   ]
  },
  {
   "cell_type": "markdown",
   "metadata": {},
   "source": [
    "# Preprossesing"
   ]
  },
  {
   "cell_type": "markdown",
   "metadata": {},
   "source": [
    "Convert the boolean True/False values, to int"
   ]
  },
  {
   "cell_type": "code",
   "execution_count": null,
   "metadata": {
    "execution": {
     "iopub.execute_input": "2023-07-26T21:11:07.356313Z",
     "iopub.status.busy": "2023-07-26T21:11:07.355964Z",
     "iopub.status.idle": "2023-07-26T21:11:07.364571Z",
     "shell.execute_reply": "2023-07-26T21:11:07.363367Z",
     "shell.execute_reply.started": "2023-07-26T21:11:07.356281Z"
    }
   },
   "outputs": [],
   "source": [
    "df[\"converted\"] = np.where(df[\"converted\"]==True, 1, 0)"
   ]
  },
  {
   "cell_type": "markdown",
   "metadata": {},
   "source": []
  },
  {
   "cell_type": "code",
   "execution_count": null,
   "metadata": {
    "execution": {
     "iopub.execute_input": "2023-07-26T21:11:07.366696Z",
     "iopub.status.busy": "2023-07-26T21:11:07.365943Z",
     "iopub.status.idle": "2023-07-26T21:11:07.391254Z",
     "shell.execute_reply": "2023-07-26T21:11:07.390073Z",
     "shell.execute_reply.started": "2023-07-26T21:11:07.36666Z"
    }
   },
   "outputs": [],
   "source": [
    "df.drop('Unnamed: 0', axis=1, inplace=True)"
   ]
  },
  {
   "cell_type": "markdown",
   "metadata": {},
   "source": [
    "Exploratory Data Analysis"
   ]
  },
  {
   "cell_type": "code",
   "execution_count": null,
   "metadata": {
    "execution": {
     "iopub.execute_input": "2023-07-26T21:11:07.393985Z",
     "iopub.status.busy": "2023-07-26T21:11:07.392866Z",
     "iopub.status.idle": "2023-07-26T21:11:07.813961Z",
     "shell.execute_reply": "2023-07-26T21:11:07.812656Z",
     "shell.execute_reply.started": "2023-07-26T21:11:07.393935Z"
    }
   },
   "outputs": [],
   "source": [
    "df.describe(include='all')"
   ]
  },
  {
   "cell_type": "markdown",
   "metadata": {},
   "source": []
  },
  {
   "cell_type": "code",
   "execution_count": null,
   "metadata": {
    "execution": {
     "iopub.execute_input": "2023-07-26T21:38:03.737547Z",
     "iopub.status.busy": "2023-07-26T21:38:03.73637Z",
     "iopub.status.idle": "2023-07-26T21:38:04.118835Z",
     "shell.execute_reply": "2023-07-26T21:38:04.11635Z",
     "shell.execute_reply.started": "2023-07-26T21:38:03.737487Z"
    }
   },
   "outputs": [],
   "source": [
    "print(df[\"test group\"].value_counts())\n",
    "\n",
    "ax = df[\"test group\"].value_counts().plot(kind=\"pie\")\n",
    "ax.set_title('Views of Different Marketing campaings piechart')\n",
    "plt.show()"
   ]
  },
  {
   "cell_type": "markdown",
   "metadata": {},
   "source": [
    "Seems a portion (2.52%) of those who viewed the different marketing campaings were converted and decided to follow the new marketing product"
   ]
  },
  {
   "cell_type": "code",
   "execution_count": null,
   "metadata": {
    "execution": {
     "iopub.execute_input": "2023-07-26T21:37:10.112215Z",
     "iopub.status.busy": "2023-07-26T21:37:10.111783Z",
     "iopub.status.idle": "2023-07-26T21:37:10.299955Z",
     "shell.execute_reply": "2023-07-26T21:37:10.29826Z",
     "shell.execute_reply.started": "2023-07-26T21:37:10.112179Z"
    }
   },
   "outputs": [],
   "source": [
    "print(\"% Not converted\", 100 * df[\"converted\"].value_counts()[0]/df[\"converted\"].value_counts().sum())\n",
    "print(\"% Converted\", 100 * df[\"converted\"].value_counts()[1]/df[\"converted\"].value_counts().sum())\n",
    "\n",
    "ax = df[\"converted\"].value_counts().plot(kind=\"pie\")\n",
    "ax.set_title('Converted piechart')\n",
    "plt.show()"
   ]
  },
  {
   "cell_type": "markdown",
   "metadata": {},
   "source": [
    "# Calculate conversion rates"
   ]
  },
  {
   "cell_type": "code",
   "execution_count": null,
   "metadata": {
    "execution": {
     "iopub.execute_input": "2023-07-26T21:11:08.386764Z",
     "iopub.status.busy": "2023-07-26T21:11:08.386003Z",
     "iopub.status.idle": "2023-07-26T21:11:08.476015Z",
     "shell.execute_reply": "2023-07-26T21:11:08.474844Z",
     "shell.execute_reply.started": "2023-07-26T21:11:08.386712Z"
    }
   },
   "outputs": [],
   "source": [
    "df.groupby(\"test group\")[\"converted\"].mean()*100"
   ]
  },
  {
   "cell_type": "markdown",
   "metadata": {},
   "source": [
    "From these conversion rates, it can be concluded that the ad group achieved a higher conversion rate (2.5547%) compared to the PSA group (1.7854%). This indicates that the advertisements were successful in generating conversions and the overall ad campaign was effective."
   ]
  },
  {
   "cell_type": "markdown",
   "metadata": {},
   "source": [
    "Lets see how many of the customers who took part of different marketing campaings got affected by them and converted to the new marketing products"
   ]
  },
  {
   "cell_type": "code",
   "execution_count": null,
   "metadata": {
    "execution": {
     "iopub.execute_input": "2023-07-26T21:11:08.4788Z",
     "iopub.status.busy": "2023-07-26T21:11:08.477573Z",
     "iopub.status.idle": "2023-07-26T21:11:08.93821Z",
     "shell.execute_reply": "2023-07-26T21:11:08.936728Z",
     "shell.execute_reply.started": "2023-07-26T21:11:08.478751Z"
    }
   },
   "outputs": [],
   "source": [
    "print(df.groupby(\"converted\")[\"test group\"].value_counts().unstack('converted'))\n",
    "\n",
    "df.groupby(\"converted\")[\"test group\"].value_counts().unstack('converted').plot(kind=\"bar\", stacked=True)\n"
   ]
  },
  {
   "cell_type": "markdown",
   "metadata": {},
   "source": []
  },
  {
   "cell_type": "code",
   "execution_count": null,
   "metadata": {
    "execution": {
     "iopub.execute_input": "2023-07-26T21:11:08.941026Z",
     "iopub.status.busy": "2023-07-26T21:11:08.940196Z",
     "iopub.status.idle": "2023-07-26T21:11:09.423474Z",
     "shell.execute_reply": "2023-07-26T21:11:09.422005Z",
     "shell.execute_reply.started": "2023-07-26T21:11:08.940973Z"
    }
   },
   "outputs": [],
   "source": [
    "print(df.loc[df[\"test group\"]==\"psa\"].groupby(\"converted\")[\"test group\"].value_counts())\n",
    "df.loc[df[\"test group\"]==\"psa\"].groupby(\"converted\")[\"test group\"].value_counts().plot(kind=\"bar\", stacked=True)\n"
   ]
  },
  {
   "cell_type": "markdown",
   "metadata": {},
   "source": []
  },
  {
   "cell_type": "code",
   "execution_count": null,
   "metadata": {
    "execution": {
     "iopub.execute_input": "2023-07-26T21:11:09.425634Z",
     "iopub.status.busy": "2023-07-26T21:11:09.425126Z",
     "iopub.status.idle": "2023-07-26T21:11:10.1459Z",
     "shell.execute_reply": "2023-07-26T21:11:10.144762Z",
     "shell.execute_reply.started": "2023-07-26T21:11:09.425587Z"
    }
   },
   "outputs": [],
   "source": [
    "print(df.loc[df[\"test group\"]==\"ad\"].groupby(\"converted\")[\"test group\"].value_counts())\n",
    "df.loc[df[\"test group\"]==\"ad\"].groupby(\"converted\")[\"test group\"].value_counts().plot(kind=\"bar\", stacked=True)"
   ]
  },
  {
   "cell_type": "markdown",
   "metadata": {},
   "source": [
    "Seems Monday is the the best day to air adventishments and seems Tuesday for public service anouncement campaings"
   ]
  },
  {
   "cell_type": "code",
   "execution_count": null,
   "metadata": {
    "execution": {
     "iopub.execute_input": "2023-07-26T21:12:01.567436Z",
     "iopub.status.busy": "2023-07-26T21:12:01.567021Z",
     "iopub.status.idle": "2023-07-26T21:12:02.122759Z",
     "shell.execute_reply": "2023-07-26T21:12:02.121458Z",
     "shell.execute_reply.started": "2023-07-26T21:12:01.567399Z"
    }
   },
   "outputs": [],
   "source": [
    "print(df.groupby(\"most ads day\")[\"converted\"].sum())\n",
    "\n",
    "ax =df.groupby(by =['most ads day', 'test group']).sum()['converted'].unstack('test group').plot(kind='bar', figsize=(9,6), grid= True, stacked= True)\n",
    "ax.set_ylabel('converted')\n",
    "ax.set_title('Most ad days and converted')\n",
    "plt.show()"
   ]
  },
  {
   "cell_type": "markdown",
   "metadata": {},
   "source": [
    "### which day we had the greatest conversion?"
   ]
  },
  {
   "cell_type": "code",
   "execution_count": null,
   "metadata": {
    "execution": {
     "iopub.execute_input": "2023-07-26T21:20:14.383464Z",
     "iopub.status.busy": "2023-07-26T21:20:14.382976Z",
     "iopub.status.idle": "2023-07-26T21:20:15.055718Z",
     "shell.execute_reply": "2023-07-26T21:20:15.054662Z",
     "shell.execute_reply.started": "2023-07-26T21:20:14.383426Z"
    }
   },
   "outputs": [],
   "source": [
    "print(df.loc[df[\"test group\"]==\"ad\"].groupby(\"most ads day\")[\"converted\"].sum())\n",
    "df.loc[df[\"test group\"]==\"ad\"].groupby(\"most ads day\")[\"converted\"].sum().plot(kind=\"bar\")"
   ]
  },
  {
   "cell_type": "markdown",
   "metadata": {},
   "source": [
    "### for Public Service Anouncement campaigns, which day had the greatest conversion?"
   ]
  },
  {
   "cell_type": "code",
   "execution_count": null,
   "metadata": {
    "execution": {
     "iopub.execute_input": "2023-07-26T21:16:48.380323Z",
     "iopub.status.busy": "2023-07-26T21:16:48.379854Z",
     "iopub.status.idle": "2023-07-26T21:16:48.906758Z",
     "shell.execute_reply": "2023-07-26T21:16:48.905468Z",
     "shell.execute_reply.started": "2023-07-26T21:16:48.380287Z"
    }
   },
   "outputs": [],
   "source": [
    "print(df.loc[df[\"test group\"]==\"psa\"].groupby(\"most ads day\")[\"converted\"].sum())\n",
    "df.loc[df[\"test group\"]==\"psa\"].groupby(\"most ads day\")[\"converted\"].sum().plot(kind=\"bar\")"
   ]
  },
  {
   "cell_type": "markdown",
   "metadata": {},
   "source": [
    "## Most profitable hours with new marketing campaings\n",
    "The most profitable hour for both campaings in the 15th hour, we need to inspect further for each of the 2 campaings."
   ]
  },
  {
   "cell_type": "code",
   "execution_count": null,
   "metadata": {
    "execution": {
     "iopub.execute_input": "2023-07-26T21:24:48.064867Z",
     "iopub.status.busy": "2023-07-26T21:24:48.064471Z",
     "iopub.status.idle": "2023-07-26T21:24:48.77543Z",
     "shell.execute_reply": "2023-07-26T21:24:48.774147Z",
     "shell.execute_reply.started": "2023-07-26T21:24:48.064836Z"
    }
   },
   "outputs": [],
   "source": [
    "print(df.groupby(\"most ads hour\")[\"converted\"].sum())\n",
    "\n",
    "ax = df.groupby(by =['most ads hour', 'test group'])['converted'].sum().unstack('test group').plot(kind= 'bar', figsize= (14,13), grid= True, stacked= True)\n",
    "ax.set_ylabel('converted')\n",
    "ax.set_title('Most ad days and converted')\n",
    "plt.show()"
   ]
  },
  {
   "cell_type": "markdown",
   "metadata": {},
   "source": [
    "### for Advertishement campaigns, which hour we had the greatest conversion?\n",
    "\n",
    "During the 15th hour"
   ]
  },
  {
   "cell_type": "code",
   "execution_count": null,
   "metadata": {
    "execution": {
     "iopub.execute_input": "2023-07-26T21:26:36.621373Z",
     "iopub.status.busy": "2023-07-26T21:26:36.62009Z",
     "iopub.status.idle": "2023-07-26T21:26:37.381242Z",
     "shell.execute_reply": "2023-07-26T21:26:37.379978Z",
     "shell.execute_reply.started": "2023-07-26T21:26:36.621316Z"
    }
   },
   "outputs": [],
   "source": [
    "print(df.loc[df[\"test group\"]==\"ad\"].groupby(\"most ads hour\")[\"converted\"].sum())\n",
    "df.loc[df[\"test group\"]==\"ad\"].groupby(\"most ads hour\")[\"converted\"].sum().plot(kind=\"bar\")"
   ]
  },
  {
   "cell_type": "markdown",
   "metadata": {},
   "source": [
    "### for Public Service campaigns, which hour we had the greatest conversion?\n",
    "\n",
    "During the 15th hour"
   ]
  },
  {
   "cell_type": "code",
   "execution_count": null,
   "metadata": {
    "execution": {
     "iopub.execute_input": "2023-07-26T21:27:02.262136Z",
     "iopub.status.busy": "2023-07-26T21:27:02.261672Z",
     "iopub.status.idle": "2023-07-26T21:27:02.884101Z",
     "shell.execute_reply": "2023-07-26T21:27:02.882758Z",
     "shell.execute_reply.started": "2023-07-26T21:27:02.2621Z"
    }
   },
   "outputs": [],
   "source": [
    "print(df.loc[df[\"test group\"]==\"psa\"].groupby(\"most ads hour\")[\"converted\"].sum())\n",
    "df.loc[df[\"test group\"]==\"psa\"].groupby(\"most ads hour\")[\"converted\"].sum().plot(kind=\"bar\")"
   ]
  },
  {
   "cell_type": "markdown",
   "metadata": {},
   "source": [
    "# A/B Testing"
   ]
  },
  {
   "cell_type": "code",
   "execution_count": null,
   "metadata": {
    "execution": {
     "iopub.execute_input": "2023-07-26T21:34:04.510061Z",
     "iopub.status.busy": "2023-07-26T21:34:04.509645Z",
     "iopub.status.idle": "2023-07-26T21:34:04.792746Z",
     "shell.execute_reply": "2023-07-26T21:34:04.791567Z",
     "shell.execute_reply.started": "2023-07-26T21:34:04.510029Z"
    }
   },
   "outputs": [],
   "source": [
    "ad_dist = df[df[\"test group\"] == 'ad'].reset_index(drop=True)\n",
    "psa_dist = df[df[\"test group\"] == 'psa'].reset_index(drop=True)"
   ]
  },
  {
   "cell_type": "code",
   "execution_count": null,
   "metadata": {
    "execution": {
     "iopub.execute_input": "2023-07-26T21:34:05.088834Z",
     "iopub.status.busy": "2023-07-26T21:34:05.088027Z",
     "iopub.status.idle": "2023-07-26T21:34:05.096441Z",
     "shell.execute_reply": "2023-07-26T21:34:05.095264Z",
     "shell.execute_reply.started": "2023-07-26T21:34:05.088796Z"
    }
   },
   "outputs": [],
   "source": [
    "ad_dist.shape, psa_dist.shape"
   ]
  },
  {
   "cell_type": "markdown",
   "metadata": {},
   "source": [
    "## test of Normality"
   ]
  },
  {
   "cell_type": "code",
   "execution_count": null,
   "metadata": {
    "execution": {
     "iopub.execute_input": "2023-07-26T21:34:06.393764Z",
     "iopub.status.busy": "2023-07-26T21:34:06.392667Z",
     "iopub.status.idle": "2023-07-26T21:34:06.398464Z",
     "shell.execute_reply": "2023-07-26T21:34:06.396995Z",
     "shell.execute_reply.started": "2023-07-26T21:34:06.393721Z"
    }
   },
   "outputs": [],
   "source": [
    "from scipy.stats import shapiro, levene, mannwhitneyu, ttest_ind"
   ]
  },
  {
   "cell_type": "code",
   "execution_count": null,
   "metadata": {
    "execution": {
     "iopub.execute_input": "2023-07-26T21:34:06.901626Z",
     "iopub.status.busy": "2023-07-26T21:34:06.901173Z",
     "iopub.status.idle": "2023-07-26T21:34:06.929871Z",
     "shell.execute_reply": "2023-07-26T21:34:06.928571Z",
     "shell.execute_reply.started": "2023-07-26T21:34:06.901589Z"
    }
   },
   "outputs": [],
   "source": [
    "_, pvalue_ad = shapiro(ad_dist.converted)\n",
    "_, pvalue_psa = shapiro(psa_dist.converted)\n",
    "print(pvalue_ad, pvalue_psa)"
   ]
  },
  {
   "cell_type": "markdown",
   "metadata": {},
   "source": [
    "## Test of homogeneity of variance"
   ]
  },
  {
   "cell_type": "code",
   "execution_count": null,
   "metadata": {
    "execution": {
     "iopub.execute_input": "2023-07-26T21:34:08.235981Z",
     "iopub.status.busy": "2023-07-26T21:34:08.235586Z",
     "iopub.status.idle": "2023-07-26T21:34:08.253242Z",
     "shell.execute_reply": "2023-07-26T21:34:08.251891Z",
     "shell.execute_reply.started": "2023-07-26T21:34:08.235947Z"
    }
   },
   "outputs": [],
   "source": [
    "# variance homogeneity check\n",
    "levene(psa_dist.converted, ad_dist.converted)"
   ]
  },
  {
   "cell_type": "markdown",
   "metadata": {},
   "source": [
    "p_values are less than 0.05 so the normality and variance assumptions are met."
   ]
  },
  {
   "cell_type": "markdown",
   "metadata": {},
   "source": [
    "## A/B Testing, independent T-test\n",
    "\n",
    "Since Shapiro's test and the test of homogenous variance are met"
   ]
  },
  {
   "cell_type": "code",
   "execution_count": null,
   "metadata": {
    "execution": {
     "iopub.execute_input": "2023-07-26T21:34:10.310187Z",
     "iopub.status.busy": "2023-07-26T21:34:10.309308Z",
     "iopub.status.idle": "2023-07-26T21:34:10.323154Z",
     "shell.execute_reply": "2023-07-26T21:34:10.321656Z",
     "shell.execute_reply.started": "2023-07-26T21:34:10.310142Z"
    }
   },
   "outputs": [],
   "source": [
    "# test for significance\n",
    "ttest_ind(psa_dist.converted, ad_dist.converted)"
   ]
  },
  {
   "cell_type": "markdown",
   "metadata": {},
   "source": [
    "the results are statistically significant!\n",
    "- pvalue strongly rejects the null hypothesis\n",
    "- difference in conversions are due to the ads"
   ]
  },
  {
   "cell_type": "code",
   "execution_count": null,
   "metadata": {
    "execution": {
     "iopub.execute_input": "2023-07-26T21:34:26.202527Z",
     "iopub.status.busy": "2023-07-26T21:34:26.20178Z",
     "iopub.status.idle": "2023-07-26T21:34:26.223728Z",
     "shell.execute_reply": "2023-07-26T21:34:26.222625Z",
     "shell.execute_reply.started": "2023-07-26T21:34:26.202444Z"
    }
   },
   "outputs": [],
   "source": [
    "# conversion rates\n",
    "converts_psa = psa_dist.groupby('converted')['user id'].count()\n",
    "converts_ad = ad_dist.groupby('converted')['user id'].count()\n",
    "(100 * converts_psa[1]/converts_psa[0]), (100 * converts_ad[1]/converts_ad[0])"
   ]
  },
  {
   "cell_type": "markdown",
   "metadata": {},
   "source": [
    "The ad group achieved a higher conversion rate of 2.62% compared to the PSA group's 1.81%. This indicates that the ad campaign was more effective in driving conversions compared to the PSA.\n",
    "\n",
    "The t-test p-value of 0.0000 indicates that the difference in conversion rates between the two groups is statistically significant, meaning that it is highly unlikely to have occurred by chance alone. This provides strong evidence for the observed difference between the two groups."
   ]
  },
  {
   "cell_type": "markdown",
   "metadata": {},
   "source": []
  },
  {
   "cell_type": "code",
   "execution_count": null,
   "metadata": {},
   "outputs": [],
   "source": []
  }
 ],
 "metadata": {
  "kernelspec": {
   "display_name": "Python 3 (ipykernel)",
   "language": "python",
   "name": "python3"
  },
  "language_info": {
   "codemirror_mode": {
    "name": "ipython",
    "version": 3
   },
   "file_extension": ".py",
   "mimetype": "text/x-python",
   "name": "python",
   "nbconvert_exporter": "python",
   "pygments_lexer": "ipython3",
   "version": "3.9.7"
  }
 },
 "nbformat": 4,
 "nbformat_minor": 4
}
